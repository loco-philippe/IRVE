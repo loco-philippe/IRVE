{
 "cells": [
  {
   "cell_type": "code",
   "execution_count": 1,
   "id": "856cdb47-bdc4-47dd-a673-126a5500f38e",
   "metadata": {},
   "outputs": [
    {
     "data": {
      "text/plain": [
       "\"def set_localisation(nb, reg, dpt, com):\\n    dic_reg = {i: str(val) for i, val in enumerate(reg['REG'])}\\n    dic_dpt = {i: str(val) for i, val in enumerate(dpt['DEP'])}    \\n    dic_com = {i: str(val) for i, val in enumerate(com['COM'])}      \\n    list_random = [random.randint(0,len(com)-1) for i in range(nb)]\\n    return pd.DataFrame({'region': [com['REG'][i] for i in list_random],\\n                         'dept': [com['DEP'][i] for i in list_random],\\n                         'com': [com['COM'][i] for i in list_random]})\""
      ]
     },
     "execution_count": 1,
     "metadata": {},
     "output_type": "execute_result"
    }
   ],
   "source": [
    "'''def set_localisation(nb, reg, dpt, com):\n",
    "    dic_reg = {i: str(val) for i, val in enumerate(reg['REG'])}\n",
    "    dic_dpt = {i: str(val) for i, val in enumerate(dpt['DEP'])}    \n",
    "    dic_com = {i: str(val) for i, val in enumerate(com['COM'])}      \n",
    "    list_random = [random.randint(0,len(com)-1) for i in range(nb)]\n",
    "    return pd.DataFrame({'region': [com['REG'][i] for i in list_random],\n",
    "                         'dept': [com['DEP'][i] for i in list_random],\n",
    "                         'com': [com['COM'][i] for i in list_random]})'''"
   ]
  },
  {
   "cell_type": "code",
   "execution_count": 2,
   "id": "58ba194d-89ca-4fff-834e-1001642d1f46",
   "metadata": {},
   "outputs": [],
   "source": [
    "import pandas as pd\n",
    "import json\n",
    "import shapely\n",
    "\n",
    "def get_geom(filename):\n",
    "    file = open(filename)\n",
    "    contour = json.load(file)\n",
    "    file.close()\n",
    "    geom = []\n",
    "    for feature in contour['features']:\n",
    "        code = feature['properties']['code']\n",
    "        try: \n",
    "            poly = shapely.from_geojson(json.dumps(feature['geometry']))\n",
    "            box = shapely.bounds(poly).tolist()\n",
    "        except: \n",
    "            poly = None\n",
    "            box = [0.0, 0.0, 0.0, 0.0]\n",
    "        geom.append((code, box, poly))\n",
    "    return pd.DataFrame.from_records(geom, columns=['code', 'box', 'poly'])\n",
    "\n",
    "def in_box(point, box):\n",
    "    return box[0] <= point[0] <= box[2] and box[1] <= point[1] <= box[3]\n",
    "\n",
    "def get_com(coord, data_ref):\n",
    "    reg, dpt, com, reg_geo, dpt_geo, com_geo, comidx = data_ref\n",
    "    reg_ok = reg_geo.apply(lambda x: in_box(coord, x['box']), axis=1)\n",
    "    reg_geo_ok = list(reg_geo[reg_ok]['code'])\n",
    "    \n",
    "    dpt_sel = list(dpt[dpt['REG'].isin(reg_geo_ok)]['DEP'])\n",
    "    dpt_sel_geo = dpt_geo[dpt_geo['code'].isin(dpt_sel)]\n",
    "    dpt_ok = dpt_sel_geo.apply(lambda x: in_box(coord, x['box']), axis=1)\n",
    "    dpt_geo_ok = list(dpt_sel_geo[dpt_ok]['code'])\n",
    "\n",
    "    com_sel = list(com[com['DEP'].isin(dpt_geo_ok)]['COM'])\n",
    "    com_sel_geo = com_geo[com_geo['code'].isin(com_sel)]\n",
    "    com_ok = com_sel_geo.apply(lambda x: in_box(coord, x['box']), axis=1)\n",
    "    com_geo_ok = list(com_sel_geo[com_ok]['code'])\n",
    "    \n",
    "    for commune in com_geo_ok:\n",
    "        poly = com_geo.loc[com_geo['code'] == commune, :]['poly'].iloc[0]\n",
    "        if shapely.contains_xy(poly, coord[0], coord[1]):\n",
    "            # com_att=comidx.loc[commune]\n",
    "            # return (commune, com_att['DEP'], com_att['REG'])\n",
    "            return commune\n",
    "    # return (None, None, None)\n",
    "    return None"
   ]
  },
  {
   "cell_type": "code",
   "execution_count": 3,
   "id": "6a5e22ae-2c1e-486f-a927-67e09b1ece78",
   "metadata": {},
   "outputs": [],
   "source": [
    "chemin = \"D:/philippe/python ESstandard/IRVE/sources/data_quali/\"\n",
    "columns=['code', 'box', 'poly']\n",
    "reg_geo = get_geom(chemin + 'regions-version-simplifiee.geojson')\n",
    "dpt_geo = get_geom(chemin + 'departements-version-simplifiee.geojson')\n",
    "com_geo = get_geom(chemin + 'communes-version-simplifiee.geojson')\n",
    "reg = pd.read_csv(chemin + 'v_region_2024.csv')\n",
    "dpt = pd.read_csv(chemin + 'v_departement_2024.csv').astype('str')\n",
    "com = pd.read_csv(chemin + 'v_commune_2024.csv', dtype='str')\n",
    "comidx = com.set_index('COM')\n",
    "data_ref = (reg, dpt, com, reg_geo, dpt_geo, com_geo, comidx)"
   ]
  },
  {
   "cell_type": "code",
   "execution_count": 17,
   "id": "e0580ec6-1052-4987-8995-8c5fac313ad8",
   "metadata": {},
   "outputs": [
    {
     "data": {
      "text/html": [
       "<div>\n",
       "<style scoped>\n",
       "    .dataframe tbody tr th:only-of-type {\n",
       "        vertical-align: middle;\n",
       "    }\n",
       "\n",
       "    .dataframe tbody tr th {\n",
       "        vertical-align: top;\n",
       "    }\n",
       "\n",
       "    .dataframe thead th {\n",
       "        text-align: right;\n",
       "    }\n",
       "</style>\n",
       "<table border=\"1\" class=\"dataframe\">\n",
       "  <thead>\n",
       "    <tr style=\"text-align: right;\">\n",
       "      <th></th>\n",
       "      <th>DEP</th>\n",
       "      <th>REG</th>\n",
       "      <th>CHEFLIEU</th>\n",
       "      <th>TNCC</th>\n",
       "      <th>NCC</th>\n",
       "      <th>NCCENR</th>\n",
       "      <th>LIBELLE</th>\n",
       "    </tr>\n",
       "  </thead>\n",
       "  <tbody>\n",
       "    <tr>\n",
       "      <th>90</th>\n",
       "      <td>90</td>\n",
       "      <td>27</td>\n",
       "      <td>90010</td>\n",
       "      <td>2</td>\n",
       "      <td>TERRITOIRE DE BELFORT</td>\n",
       "      <td>Territoire de Belfort</td>\n",
       "      <td>Territoire de Belfort</td>\n",
       "    </tr>\n",
       "    <tr>\n",
       "      <th>91</th>\n",
       "      <td>91</td>\n",
       "      <td>11</td>\n",
       "      <td>91228</td>\n",
       "      <td>5</td>\n",
       "      <td>ESSONNE</td>\n",
       "      <td>Essonne</td>\n",
       "      <td>Essonne</td>\n",
       "    </tr>\n",
       "    <tr>\n",
       "      <th>92</th>\n",
       "      <td>92</td>\n",
       "      <td>11</td>\n",
       "      <td>92050</td>\n",
       "      <td>4</td>\n",
       "      <td>HAUTS DE SEINE</td>\n",
       "      <td>Hauts-de-Seine</td>\n",
       "      <td>Hauts-de-Seine</td>\n",
       "    </tr>\n",
       "    <tr>\n",
       "      <th>93</th>\n",
       "      <td>93</td>\n",
       "      <td>11</td>\n",
       "      <td>93008</td>\n",
       "      <td>3</td>\n",
       "      <td>SEINE SAINT DENIS</td>\n",
       "      <td>Seine-Saint-Denis</td>\n",
       "      <td>Seine-Saint-Denis</td>\n",
       "    </tr>\n",
       "    <tr>\n",
       "      <th>94</th>\n",
       "      <td>94</td>\n",
       "      <td>11</td>\n",
       "      <td>94028</td>\n",
       "      <td>2</td>\n",
       "      <td>VAL DE MARNE</td>\n",
       "      <td>Val-de-Marne</td>\n",
       "      <td>Val-de-Marne</td>\n",
       "    </tr>\n",
       "    <tr>\n",
       "      <th>95</th>\n",
       "      <td>95</td>\n",
       "      <td>11</td>\n",
       "      <td>95500</td>\n",
       "      <td>2</td>\n",
       "      <td>VAL D OISE</td>\n",
       "      <td>Val-d'Oise</td>\n",
       "      <td>Val-d'Oise</td>\n",
       "    </tr>\n",
       "    <tr>\n",
       "      <th>96</th>\n",
       "      <td>971</td>\n",
       "      <td>1</td>\n",
       "      <td>97105</td>\n",
       "      <td>3</td>\n",
       "      <td>GUADELOUPE</td>\n",
       "      <td>Guadeloupe</td>\n",
       "      <td>Guadeloupe</td>\n",
       "    </tr>\n",
       "    <tr>\n",
       "      <th>97</th>\n",
       "      <td>972</td>\n",
       "      <td>2</td>\n",
       "      <td>97209</td>\n",
       "      <td>3</td>\n",
       "      <td>MARTINIQUE</td>\n",
       "      <td>Martinique</td>\n",
       "      <td>Martinique</td>\n",
       "    </tr>\n",
       "    <tr>\n",
       "      <th>98</th>\n",
       "      <td>973</td>\n",
       "      <td>3</td>\n",
       "      <td>97302</td>\n",
       "      <td>3</td>\n",
       "      <td>GUYANE</td>\n",
       "      <td>Guyane</td>\n",
       "      <td>Guyane</td>\n",
       "    </tr>\n",
       "    <tr>\n",
       "      <th>99</th>\n",
       "      <td>974</td>\n",
       "      <td>4</td>\n",
       "      <td>97411</td>\n",
       "      <td>0</td>\n",
       "      <td>LA REUNION</td>\n",
       "      <td>La Réunion</td>\n",
       "      <td>La Réunion</td>\n",
       "    </tr>\n",
       "    <tr>\n",
       "      <th>100</th>\n",
       "      <td>976</td>\n",
       "      <td>6</td>\n",
       "      <td>97611</td>\n",
       "      <td>0</td>\n",
       "      <td>MAYOTTE</td>\n",
       "      <td>Mayotte</td>\n",
       "      <td>Mayotte</td>\n",
       "    </tr>\n",
       "  </tbody>\n",
       "</table>\n",
       "</div>"
      ],
      "text/plain": [
       "     DEP  REG CHEFLIEU TNCC                    NCC                 NCCENR  \\\n",
       "90    90   27    90010    2  TERRITOIRE DE BELFORT  Territoire de Belfort   \n",
       "91    91   11    91228    5                ESSONNE                Essonne   \n",
       "92    92   11    92050    4         HAUTS DE SEINE         Hauts-de-Seine   \n",
       "93    93   11    93008    3      SEINE SAINT DENIS      Seine-Saint-Denis   \n",
       "94    94   11    94028    2           VAL DE MARNE           Val-de-Marne   \n",
       "95    95   11    95500    2             VAL D OISE             Val-d'Oise   \n",
       "96   971    1    97105    3             GUADELOUPE             Guadeloupe   \n",
       "97   972    2    97209    3             MARTINIQUE             Martinique   \n",
       "98   973    3    97302    3                 GUYANE                 Guyane   \n",
       "99   974    4    97411    0             LA REUNION             La Réunion   \n",
       "100  976    6    97611    0                MAYOTTE                Mayotte   \n",
       "\n",
       "                   LIBELLE  \n",
       "90   Territoire de Belfort  \n",
       "91                 Essonne  \n",
       "92          Hauts-de-Seine  \n",
       "93       Seine-Saint-Denis  \n",
       "94            Val-de-Marne  \n",
       "95              Val-d'Oise  \n",
       "96              Guadeloupe  \n",
       "97              Martinique  \n",
       "98                  Guyane  \n",
       "99              La Réunion  \n",
       "100                Mayotte  "
      ]
     },
     "execution_count": 17,
     "metadata": {},
     "output_type": "execute_result"
    }
   ],
   "source": [
    "dpt['REG'] = dpt['REG'].astype('int')\n",
    "dpt.loc[dpt['REG'] < 10, :]\n",
    "dpt[90:110]"
   ]
  },
  {
   "cell_type": "code",
   "execution_count": 4,
   "id": "b8c7a7bc-1c3c-48bc-9642-1c98df674bef",
   "metadata": {},
   "outputs": [
    {
     "name": "stdout",
     "output_type": "stream",
     "text": [
      "21189\n",
      "[4.972450762618274, 46.999128507562766, 5.053123943966335, 47.02143928952511]\n"
     ]
    }
   ],
   "source": [
    "coord = [5, 47]\n",
    "#com_ok, dep_ok, reg_ok = get_com(coord, data_ref)\n",
    "com_ok = get_com(coord, data_ref)\n",
    "\n",
    "#print(com_ok, dep_ok, reg_ok)\n",
    "print(com_ok)\n",
    "print(com_geo[com_geo['code']==com_ok]['box'].iloc[0])"
   ]
  },
  {
   "cell_type": "code",
   "execution_count": 5,
   "id": "3b9de954-17bb-4676-9295-28bdc960a9ac",
   "metadata": {},
   "outputs": [
    {
     "name": "stdout",
     "output_type": "stream",
     "text": [
      "7916 0.05850338935852051\n",
      "7916 106.23013663291931\n"
     ]
    },
    {
     "data": {
      "text/plain": [
       "0       77018\n",
       "1       59512\n",
       "2       74006\n",
       "3       74010\n",
       "4       74010\n",
       "        ...  \n",
       "7911    31056\n",
       "7912    81105\n",
       "7913    40310\n",
       "7914    13055\n",
       "7915    92062\n",
       "Name: commune, Length: 7916, dtype: object"
      ]
     },
     "execution_count": 5,
     "metadata": {},
     "output_type": "execute_result"
    }
   ],
   "source": [
    "from time import time\n",
    "loc = pd.read_csv(chemin +'export_localisation_2024-07-25.csv')\n",
    "t0 = time()\n",
    "loc['coord'] = loc.apply(lambda x: json.loads(x['coordonneesxy']), axis=1)\n",
    "print(len(loc), time() - t0)\n",
    "t0 = time()\n",
    "loc['commune'] = loc.apply(lambda x: get_com(x['coord'], data_ref), axis=1)\n",
    "duree = time()-t0\n",
    "print(len(loc), duree)\n",
    "loc['commune']"
   ]
  },
  {
   "cell_type": "code",
   "execution_count": 6,
   "id": "d8ff36b4-1020-4208-9a8a-f051823f0d32",
   "metadata": {},
   "outputs": [],
   "source": [
    "loc['longitude'] = loc.apply(lambda x: x['coord'][0], axis=1)\n",
    "loc['latitude'] = loc.apply(lambda x: x['coord'][1], axis=1)\n",
    "loc.to_csv(chemin + 'loc_with_commune.csv')"
   ]
  },
  {
   "cell_type": "code",
   "execution_count": 7,
   "id": "ba68b107-3022-49a2-9e13-0ec677062fe4",
   "metadata": {},
   "outputs": [
    {
     "data": {
      "text/plain": [
       "False"
      ]
     },
     "execution_count": 7,
     "metadata": {},
     "output_type": "execute_result"
    }
   ],
   "source": [
    "poly = com_geo.loc[com_geo['code'] == '21193', :]['poly'].iloc[0]\n",
    "shapely.contains_xy(poly, coord[0], coord[1])"
   ]
  },
  {
   "cell_type": "code",
   "execution_count": 8,
   "id": "8a19a5c8-b03c-4884-ae02-b4f5225c0249",
   "metadata": {},
   "outputs": [
    {
     "data": {
      "text/plain": [
       "'84'"
      ]
     },
     "execution_count": 8,
     "metadata": {},
     "output_type": "execute_result"
    }
   ],
   "source": [
    "comidx = com.set_index('COM')\n",
    "comidx.loc['01002']['REG']"
   ]
  },
  {
   "cell_type": "code",
   "execution_count": 30,
   "id": "b1ec4d35-8b1b-4561-b54a-adbf8938d578",
   "metadata": {},
   "outputs": [
    {
     "name": "stdout",
     "output_type": "stream",
     "text": [
      "<class 'list'>\n",
      "Feature {'code': '11', 'nom': 'Île-de-France'}\n"
     ]
    }
   ],
   "source": [
    "filename = chemin + 'regions-avec-outre-mer.geojson'\n",
    "file = open(filename)\n",
    "contour = json.load(file)\n",
    "file.close()\n",
    "print(type(contour['features']))\n",
    "\n",
    "obj = contour['features'][0]\n",
    "print(obj['type'], obj['properties'])\n",
    "\n",
    "amerique = ['1', '01', '2', '02', '3', '03']\n",
    "afrique = \n",
    "contour_amerique = {'type': 'FeatureCollection', \n",
    "                    'features': [feature for feature in contour['features'] if feature['properties']['code'] in amerique]}\n",
    "contour_amerique2 = {'type': 'FeatureCollection', \n",
    "                    'features': [feature for feature in contour['features'] if feature['properties']['code'] in amerique]}\n",
    "# print(contour_amerique2 == contour_amerique)\n",
    "with open(chemin + 'regions-amerique.geojson', 'w', encoding ='utf8') as json_file:\n",
    "    json.dump(contour_amerique, json_file)"
   ]
  }
 ],
 "metadata": {
  "kernelspec": {
   "display_name": "Python 3 (ipykernel)",
   "language": "python",
   "name": "python3"
  },
  "language_info": {
   "codemirror_mode": {
    "name": "ipython",
    "version": 3
   },
   "file_extension": ".py",
   "mimetype": "text/x-python",
   "name": "python",
   "nbconvert_exporter": "python",
   "pygments_lexer": "ipython3",
   "version": "3.11.8"
  }
 },
 "nbformat": 4,
 "nbformat_minor": 5
}
