{
 "cells": [
  {
   "cell_type": "markdown",
   "id": "4288e49a-cbf0-4604-94cf-35d69cac421d",
   "metadata": {},
   "source": [
    "# Indicateurs Qualité de service - Qualicharge"
   ]
  },
  {
   "cell_type": "code",
   "execution_count": 3,
   "id": "b31fe261-b7e9-4ee9-afdf-e5002e388b10",
   "metadata": {
    "jupyter": {
     "source_hidden": true
    }
   },
   "outputs": [],
   "source": [
    "import base64\n",
    "from IPython.display import Image, display\n",
    "\n",
    "def visu(graph):\n",
    "    base64_string = base64.urlsafe_b64encode(graph.encode(\"utf8\")).decode(\"ascii\")\n",
    "    display(Image(url=\"https://mermaid.ink/img/\" + base64_string))\n",
    "\n",
    "diagramme = \"\"\"\n",
    "flowchart TB\n",
    "    déclaré -->|début charge| occ   \n",
    "    occ -->|arrêt| hs\n",
    "    subgraph en_service\n",
    "        direction RL\n",
    "        lib(libre) -->|début charge| occ(occupé)\n",
    "        occ -->|fin charge| lib\n",
    "    end  \n",
    "    hs(hors service) -->|fin arrêt| lib\n",
    "    hs -->|désactivation| desactivé \n",
    "\"\"\""
   ]
  },
  {
   "cell_type": "markdown",
   "id": "c55cee15-274d-4d6f-a27a-6d3655e5aa42",
   "metadata": {},
   "source": [
    "## Besoin"
   ]
  },
  {
   "cell_type": "markdown",
   "id": "7610d996-3d5a-4a9a-9f12-74f8d0f7e034",
   "metadata": {},
   "source": [
    "Les principaux indicateurs demandés concernent :\n",
    "- la disponibilité de la recharge (ratio de la durée en service sur le temps d'ouverture),\n",
    "- le taux d'utilisation des installations (ratio de la durée de recharge sur la durée en service),\n",
    "- les saturations lors de périodes spécifiques (aucun point de recharge disponible)\n",
    "- le facteur de charge (ratio du consommé sur le maximum consommable)\n",
    "\n",
    "Les indicateurs associés aux sessions (charge partielle/complète, session réussie) ne sont pas abordés.\n",
    "\n",
    "Pour caractériser ces indicateurs, plusieurs définitions ont été établies notamment par l'AFIREV (voir en Annexe)"
   ]
  },
  {
   "cell_type": "markdown",
   "id": "dd74121c-70bb-42f7-b757-70799f1222bf",
   "metadata": {},
   "source": [
    "## Suivi des états des points de recharge\n",
    "\n",
    "Le calcul des indicateurs repose sur l'enregistrement du temps passé dans chacun des trois états principaux d'un point de recharge :\n",
    "\n",
    "- \"libre\" : En fonctionnement, non occupé et pendant la période d'ouverture\n",
    "- \"occupe\" : En charge\n",
    "- \"hors service\" : Mise à l'arrêt (ex. maintenance) ou arrêt intempestif (défaillance : statut erreur ou inconnu). \n",
    "\n",
    "Le passage d'un état à un autre s'effectue par une transition."
   ]
  },
  {
   "cell_type": "code",
   "execution_count": 4,
   "id": "70862d13-89d1-4506-a920-44819e543581",
   "metadata": {},
   "outputs": [
    {
     "data": {
      "text/html": [
       "<img src=\"https://mermaid.ink/img/CmZsb3djaGFydCBUQgogICAgZMOpY2xhcsOpIC0tPnxkw6lidXQgY2hhcmdlfCBvY2MgICAKICAgIG9jYyAtLT58YXJyw6p0fCBocwogICAgc3ViZ3JhcGggZW5fc2VydmljZQogICAgICAgIGRpcmVjdGlvbiBSTAogICAgICAgIGxpYihsaWJyZSkgLS0-fGTDqWJ1dCBjaGFyZ2V8IG9jYyhvY2N1cMOpKQogICAgICAgIG9jYyAtLT58ZmluIGNoYXJnZXwgbGliCiAgICBlbmQgIAogICAgaHMoaG9ycyBzZXJ2aWNlKSAtLT58ZmluIGFycsOqdHwgbGliCiAgICBocyAtLT58ZMOpc2FjdGl2YXRpb258IGRlc2FjdGl2w6kgCg==\"/>"
      ],
      "text/plain": [
       "<IPython.core.display.Image object>"
      ]
     },
     "metadata": {},
     "output_type": "display_data"
    }
   ],
   "source": [
    "visu(diagramme)"
   ]
  },
  {
   "cell_type": "markdown",
   "id": "32c5aec2-e4cd-40d4-b442-0a47e7abd115",
   "metadata": {},
   "source": [
    "*NOTA :*\n",
    "- Chacun des trois états (libre, occupé, hors service) peut être doublé pour tenir compte des périodes d'ouverture du point de recharge.\n",
    "  - requis: pendant la période d'ouverture,\n",
    "  - non requis: hors période d'ouverture.\n",
    "- L'état \"hors_service\" peut être décomposé en états plus précis en fonction du temps de présence :\n",
    "  - interruption courte < 2h,\n",
    "  - interruption longue < 24h,\n",
    "  - arrêt court < 7j,\n",
    "  - arrêt long > 7j.\n",
    "- Deux états complémentaires peuvent également être distingués:\n",
    "  - \"déclaré\": Identifié dans Qualicharge mais avec aucune charge encore effectuée\n",
    "  - \"désactivé\": Identifié dans Qualicharge mais non pris en compte dans le suivi d'usage.\n",
    "\n",
    "**Dans un premier temps, on se limite au suivi du temps passé dans les trois états principaux \"libre\", \"occupe\", \"hors_service\" et avec un temps d'ouverture de 100 %.**\n"
   ]
  },
  {
   "cell_type": "markdown",
   "id": "d93b450c-8c92-4dda-b977-1f9b2f4f24de",
   "metadata": {},
   "source": [
    "## Suivi des états des stations\n",
    "\n",
    "L'état des stations est à considérer pour prendre en compte la notion de saturation. \n",
    "\n",
    "On peut alors distinguer les états suivants calculés à partir des états des points de recharge associés :\n",
    "- \"hors_service\" : tous les pdc sont dans l'état \"hors_service\",\n",
    "- \"saturé\" : aucun pdc n'est dans l'état \"libre\" et au moins un pdc est dans l'état \"occupe\",\n",
    "- \"active\" : au moins un pdc est dans l'état \"libre\" et au moins un pdc est dans l'état \"occupe\"\n",
    "- \"inactive\" : aucun pdc n'est dans l'état \"occupe\" et au moins un pdc est dans l'état \"libre\"\n",
    "\n",
    "Néanmoins, le calcul du temps passé dans chaque état peut être complexe et long. Un travail complémentaire reste donc à mener pour aboutir sur une solution simple.\n",
    "\n",
    "**Dans un premier temps, on peut se limiter au calcul du temps passé dans l'état \"saturé\"**"
   ]
  },
  {
   "cell_type": "markdown",
   "id": "ab996362-60a8-4c2e-9b0e-e1747614334a",
   "metadata": {},
   "source": [
    "## Structure de données Qualicharge"
   ]
  },
  {
   "cell_type": "markdown",
   "id": "840a7405-a627-428a-b355-b50e15d47e08",
   "metadata": {},
   "source": [
    "La table `session` enregistre les périodes de charge effective (plus de 2 minutes ET avec une énergie supérieure à 0,5 kWh) :\n",
    "- id (UUID),\n",
    "- start (datetime),\n",
    "- end (datetime),\n",
    "- energy (number),\n",
    "\n",
    "La table `status` enregistre les transitions entre deux modes de fonctionnement d'un point de recharge (ou bien un instantané d'un état du point de recharge). Les champs obligatoires sont :\n",
    "- id (UUID),\n",
    "- horodatage (datetime),\n",
    "- etat_pdc (enum :\"en_service\", \"hors_service\", \"inconnu\"),\n",
    "- occupation_pdc (enum : \"libre\", \"occupe\", \"reserve\", \"inconnu\")\n",
    "\n",
    "Les trois états définis pour les point de recharge peuvent donc être suivi sur la base des transitions correspondants aux `status`:\n",
    "- \"libre\" (après une transition déclenchée par le `status`: `etat_pdc` égal à \"en_service\" et `occupation_pdc` égal à \"libre\") \n",
    "- \"occupe\" (après une transition déclenchée par le `status`: `etat_pdc` égal à \"en_service\" et `occupation_pdc` égal à \"occupe\")\n",
    "- \"hors_service\" (après une transition liée à tous les autres `status`)\n",
    "\n",
    "NOTA : Pour des raisons de simplicité, on autorise toutes les transitions (par exemple on n'impose pas pour passer de \"hors_service\" à \"occupe\" de passer d'abord de \"hors-service\" à \"libre\" puis de \"libre\" à \"occupe\"). Le `status` porte alors directement l'état d'arrivée de la transition."
   ]
  },
  {
   "cell_type": "markdown",
   "id": "491a19fc-7dc5-489d-b670-00f656136d4d",
   "metadata": {},
   "source": [
    "## Indicateurs retenus pour Qualicharge\n",
    "\n",
    "Les propositions ci-dessous s'appuient sur les définitions AFIREV, le retour d'expérience 2023 et la structure Qualicharge."
   ]
  },
  {
   "cell_type": "markdown",
   "id": "a8d49f7c-1a82-4a89-ae86-aabfd9045fc6",
   "metadata": {},
   "source": [
    "### Disponibilité\n",
    "\n",
    "Proposition :\n",
    "- Temps passé en dehors de l'état \"hors_service\" (TD) divisé par le temps d'ouverture (TO) du point de recharge sur la période.\n",
    "\n",
    "L'agrégation de plusieurs disponibilités est le rapport de la somme des TD sur la somme des TO. Ceci permet de traiter l'agrégation sur plusieurs échelles de temps ou sur un périmètre donné.\n",
    "\n",
    "Exemples:\n",
    "- si un pdc A est disponible à 100 % et un pdc B est disponible à 50 % sur la même période, l'ensemble aura une disponibilité de 75 %\n",
    "- si un pdc A est disponible à 100 % sur un jour et à 25 % sur quatre jours, il aura une disponibilité de 40 % sur cinq jours."
   ]
  },
  {
   "cell_type": "markdown",
   "id": "843f6cd3-8086-4b23-9050-f485ebc808c3",
   "metadata": {},
   "source": [
    "### Taux d'utilisation\n",
    "\n",
    "Proposition :\n",
    "- Temps passé dans l'état \"occupe\" (TU) divisé par le temps passé en dehors de l'état \"hors_service\".\n",
    "\n",
    "L'agrégation s'effectue également en divisant la somme des numérateurs par la somme des dénominateurs."
   ]
  },
  {
   "cell_type": "markdown",
   "id": "6717a27d-ad3c-4d74-9814-0b7bafb184b2",
   "metadata": {},
   "source": [
    "### Saturation\n",
    "\n",
    "Proposition :\n",
    "- On peut considérer qu'une station a été saturée sur une période si elle a été saturée avec un temps supérieur à un seuil (à définir) sur cette période. \n",
    "- On peut également calculer un taux de saturation comme étant le temps passé dans l'état \"saturé\" divisé par le temps passé en dehors de l'état \"hors service\"."
   ]
  },
  {
   "cell_type": "markdown",
   "id": "21a36cc5-f78e-4e57-b73b-9ddee87e864c",
   "metadata": {},
   "source": [
    "### Facteur de charge\n",
    "\n",
    "Proposition :\n",
    "- Cumul de `energy` divisé par l'énergie maximale (puissance multipliée par le temps d'ouverture) sur la période\n",
    "\n",
    "L'agrégation s'effectue également en divisant la somme des numérateurs par la somme des dénominateurs."
   ]
  },
  {
   "cell_type": "markdown",
   "id": "4bceede2-3d3c-4c95-9b7b-f9dc7762293f",
   "metadata": {},
   "source": [
    "## Production des indicateurs"
   ]
  },
  {
   "cell_type": "markdown",
   "id": "9849e78a-6d26-4d07-8223-8d9ec0e454a8",
   "metadata": {
    "jp-MarkdownHeadingCollapsed": true
   },
   "source": [
    "### Principes\n",
    "\n",
    "Deux étapes sont à considérer :\n",
    "- calcul du temps passé dans chaque état,\n",
    "- calcul des indicateurs\n",
    "  \n",
    "Le calcul du temps passé dans chaque état nécessite d'avoir une vue séquentielle des `status` associés à un pdc. Ceci ne peut se faire au fil de l'eau que si la remontée des évènements dans Qualicharge est elle-même séquentielle.\n",
    "Cette contrainte ne peut actuellement être assurée, le calcul doit donc s'effectuer de façon asynchrone. Par ailleurs, le temps passé est utilisé pour calculer les indicateurs sur différentes échelles de temps. \n",
    "\n",
    "Par ailleurs, le temps passé dans chaque état pour un point de recharge ou pour une station est une information qui peut être intéressante à suivre (notamment via les buckets de TimeScaleDB). "
   ]
  },
  {
   "cell_type": "markdown",
   "id": "7bcecd89-833c-4e3f-a9ff-d66483943407",
   "metadata": {
    "jp-MarkdownHeadingCollapsed": true
   },
   "source": [
    "### Information d'état\n",
    "\n",
    "On pourrait donc avoir une table dédiée au suivi des états des points de recharge et stations avec une fréquence adaptée (ex. horaire) qui contiendrait les informations suivantes (en incluant l'énergie issue des sessions) :\n",
    "\n",
    "- pour les points de recharge :\n",
    "  - id\n",
    "  - heure (si période d'une heure)\n",
    "  - durée état libre (en seconde)\n",
    "  - durée état occupé (en secondes)\n",
    "  - durée état hors_service (en secondes)\n",
    "  - énergie consommée\n",
    "\n",
    "- pour les stations :\n",
    "  - id\n",
    "  - heure (si période d'une heure)\n",
    "  - durée état active (en seconde)\n",
    "  - durée état inactive (en secondes)\n",
    "  - durée état saturé (en secondes)\n",
    "  - durée état hors_service (en secondes)\n",
    " \n",
    "La création de tables supplémentaires n'est pas obligatoire. L'alternative serait d'effectuer le calcul dans le cadre de l'historisation avec une fréquence adaptée (ex. horaire)."
   ]
  },
  {
   "cell_type": "markdown",
   "id": "7e80b615-0b1c-4c66-8498-1754a7255c54",
   "metadata": {
    "jp-MarkdownHeadingCollapsed": true
   },
   "source": [
    "### Indicateurs \n",
    "\n",
    "Les indicateurs d'usage proposés sont les suivants :\n",
    "\n",
    "| id         | nom                                                            | Pr  | type  | historisé             |\n",
    "| ---------- | -------------------------------------------------------------- | --- | ----- | --------------------- |\n",
    "| q1-x-yy-z  | Durée horaire de dysfonctionnement des pdc (état hors-service) | 2   | usage | oui (national/région) |\n",
    "| q2-x-yy-z  | Durée horaire d'utilisation des pdc (état occupé)              | 2   | usage | oui (national/région) |\n",
    "| q3-x-yy-z  | Durée horaire de non utilisation des pdc (état libre)          | 2   | usage | oui (national/région) |\n",
    "| q4-x-yy-z  | Nombre de sessions réussies                                    | 3   | usage | oui (national/région) |\n",
    "| q5-x-yy-z  | Nombre de périodes horaires avec saturation                    | 2   | usage | oui (national/région) |\n",
    "| q6-x-yy-z  | Energie horaire consommée                                      | 2   | usage | oui (national/région) |\n",
    "| q7-x-yy-z  | Taux de disponibilité par catégorie de puissance               | 3   | usage | synthèse              |\n",
    "| q8-x-yy-z  | Taux d'utilisation                                             | 2   | usage | synthèse              |\n",
    "| q9-x-yy-z  | Facteur de charge                                              | 2   | usage | synthèse              |\n",
    "\n",
    "q1, q2, q3, q4, q5, q6 sont les valeurs cumulées (ex. moyenne, somme)\n",
    "q7 est calculé à partir de q1\n",
    "q8 est calculé à partir de q2\n",
    "q9 est calculé à partir de q6"
   ]
  },
  {
   "cell_type": "markdown",
   "id": "1f83a149-5dd0-44da-9ac3-b5e715d51fda",
   "metadata": {},
   "source": [
    "### Calcul des informations d'état\n",
    "\n",
    "Pour les points de recharge, chaque `status` est considéré comme une transition qui indique le nouvel état.\n",
    "Le temps passé entre deux `status` successifs correspond donc à une durée dans l'état défini par le premier `status` (l'état initial d'une période est l'état final de la période précédente).\n",
    "Les durées sont alors cumulées pour tous les `status` d'une période.\n",
    "\n",
    "Pour les stations, le mode de calcul reste à préciser (une méthode par discrétisation serait peut-être plus appropriée -> à tester).\n",
    "\n",
    "L'énergie consommée sur une période se déduit des `session`. Lorsqu'une session est à cheval sur plusieurs périodes, l'énergie est affectée à chaque période au prorata de la durée de la session dans chaque période."
   ]
  },
  {
   "cell_type": "markdown",
   "id": "4e8214d1-ae46-4bc2-b2a8-d2327377f18d",
   "metadata": {},
   "source": [
    "### Historisation\n",
    "\n",
    "L'historisation, dans l'hypothèse d'une ou deux tables `etat` ne présente pas de spécificité (idem autres indicateurs).\n",
    "\n",
    "Dans l'hypothèse de l'absence de table, l'historisation initiale intègre le calcul des durées et le découpage en périodes horaires."
   ]
  },
  {
   "cell_type": "markdown",
   "id": "700f522b-181b-4857-b0c1-a1e2e331b6d6",
   "metadata": {},
   "source": [
    "### Calcul des indicateurs\n",
    "\n",
    "Le calcul des indicateurs ne présente pas de spécificités (idem autre indicateurs)."
   ]
  },
  {
   "cell_type": "markdown",
   "id": "e288eedd-2efb-48e6-a5f9-ea1f07702d29",
   "metadata": {},
   "source": [
    "## Annexe : Définitions"
   ]
  },
  {
   "cell_type": "markdown",
   "id": "573f49dc-de37-454d-b966-6aa8f98adfad",
   "metadata": {},
   "source": [
    "[Disponibilité (NF EN 13306)](http://maint.t.i.b.free.fr/Files/Other/NF%20EN%2013306.pdf)\n",
    "    Aptitude d’un bien à être en état d’accomplir une fonction requise dans des conditions données, à un instant donné ou pendant un intervalle de temps donné, en supposant que la fourniture des moyens extérieurs est assurée.\n",
    "\n",
    "[Taux de sessions de recharge réussies (définition AFIREV)](https://www.observatoire-recharge-afirev.fr/wp-content/uploads/2023/06/ObsAFIREV2023_AnnexesMethodologiques-1.pdf)\n",
    "    Le taux de sessions de recharge réussies est le rapport entre le nombre des sessions de recharge réussies et le nombre total de sessions de recharge sur la période considérée. Sont considérées comme « réussies », les sessions de recharge respectant un des deux critères suivants :\n",
    "\n",
    "    - Les sessions de recharge ayant duré plus de 2 minutes ET ayant fourni une énergie supérieure à 0,5 kWh.\n",
    "    - Les sessions de recharge ayant été interrompues volontairement par le client.\n",
    "\n",
    "    Seules les sessions de recharge démarrées après authentification puis autorisation du superviseur sont prises en compte dans le calcul (présentant un « start » ou autre statut équivalent permettant d’identifier le lancement de la recharge depuis l’outil de supervision des bornes). Les sessions de recharge sur des prises de type EF sont intégrées au calcul.\n",
    "\n",
    "[Taux de disponibilité des points de recharge (définition AFIREV)](https://www.observatoire-recharge-afirev.fr/wp-content/uploads/2023/06/ObsAFIREV2023_AnnexesMethodologiques-1.pdf)\n",
    "    Le taux de disponibilité des points de recharge est le rapport entre le temps de disponibilité des points de recharge et le temps total de la période étudiée. Sont considérées comme « indisponible » un point de recharge dont l’état est :\n",
    "\n",
    "    - En statut erreur (« Faulted » ou « OutOfOrder »)\n",
    "    - En statut inconnu, c’est-à-dire en perte de communication (« Unknown ») depuis plus de 24h.\n",
    "    - Dont l’accès est impossible à l’usager peu importe la cause (ex : maintenance)\n",
    "    \n",
    "    Seule la disponibilité lors des horaires d’ouverture commerciaux de la station (horaires communiqués à l’usager) est prise en compte. Dans ce cas, au dénominateur de l’indicateur, le temps total de la période étudiée est le temps total d’ouverture de la station sur la période étudiée.  Le calcul du temps de disponibilité d’un point de recharge s’effectue comme une moyenne du temps de disponibilité des connecteurs de ce point de recharge.\n",
    "\n",
    "[Taux de points de charge disponibles 99% du temps (définition AFIREV)](https://www.observatoire-recharge-afirev.fr/wp-content/uploads/2023/06/ObsAFIREV2023_AnnexesMethodologiques-1.pdf)\n",
    "    Le taux de points de charge disponibles 99% du temps est le nombre de points de charge réputés disponibles plus de 99% du temps par rapport au nombre total de points de charge en interopérabilité dans la plateforme Gireve. La définition d’un point de charge indisponible est celle de la charte qualité de l’AFIREV:\n",
    "\n",
    "    - est considéré indisponible un point de charge en statut Hors Service.\n",
    "\n",
    "[Taux de points de charge indisponibles depuis plus de 7 jours (définition AFIREV)](https://www.observatoire-recharge-afirev.fr/wp-content/uploads/2023/06/ObsAFIREV2023_AnnexesMethodologiques-1.pdf)\n",
    "    Le taux de points de charge indisponibles depuis plus de 7 jours est le nombre de points de charge indisponibles depuis plus de 7 jours par rapport au nombre total de points de charge en interopérabilité dans la plateforme Gireve. La définition d’un point de charge indisponible est celle de la charte qualité de l’AFIREV:\n",
    "\n",
    "    - est considéré indisponible un point de charge en statut Hors Service.\n"
   ]
  }
 ],
 "metadata": {
  "kernelspec": {
   "display_name": "Python 3 (ipykernel)",
   "language": "python",
   "name": "python3"
  },
  "language_info": {
   "codemirror_mode": {
    "name": "ipython",
    "version": 3
   },
   "file_extension": ".py",
   "mimetype": "text/x-python",
   "name": "python",
   "nbconvert_exporter": "python",
   "pygments_lexer": "ipython3",
   "version": "3.12.4"
  }
 },
 "nbformat": 4,
 "nbformat_minor": 5
}
