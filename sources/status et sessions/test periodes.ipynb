{
 "cells": [
  {
   "cell_type": "code",
   "execution_count": 4,
   "id": "3a4414fa-912d-4dc8-843d-6177e9e7f024",
   "metadata": {},
   "outputs": [],
   "source": [
    "from datetime import date\n",
    "\n",
    "def dat(jour):\n",
    "    return date(2022, 4, jour)"
   ]
  },
  {
   "cell_type": "code",
   "execution_count": 5,
   "id": "c6062f1b-f9cc-44eb-a35d-aa31e8d84ad6",
   "metadata": {},
   "outputs": [
    {
     "data": {
      "text/plain": [
       "datetime.date(2022, 4, 2)"
      ]
     },
     "execution_count": 5,
     "metadata": {},
     "output_type": "execute_result"
    }
   ],
   "source": [
    "dat(2)"
   ]
  },
  {
   "cell_type": "code",
   "execution_count": 17,
   "id": "e66d8537-ec5d-4a9b-9c3d-8c0c88c62581",
   "metadata": {},
   "outputs": [],
   "source": [
    "def reduce_interval(list_inter):\n",
    "    liste = sorted(list_inter)\n",
    "    ind = 0\n",
    "    list_res = []\n",
    "    while ind < len(liste):\n",
    "        next = ind + 1\n",
    "        int_ref = liste[ind]\n",
    "        if ind == len(liste)-1:\n",
    "            list_res.append(liste[ind])\n",
    "            break\n",
    "        for interv in liste[ind+1:]:\n",
    "            if interv[0] <= int_ref[1]:\n",
    "                int_ref[1] = max(int_ref[1], interv[1])\n",
    "                next += 1\n",
    "            else:\n",
    "                continue\n",
    "        list_res.append(int_ref)\n",
    "        ind = next\n",
    "    return list_res"
   ]
  },
  {
   "cell_type": "code",
   "execution_count": 18,
   "id": "2abd1508-0740-409e-8540-b2902d02ba36",
   "metadata": {},
   "outputs": [],
   "source": [
    "list_inter = [[2, 7], [1,4], [5, 10], [2, 3], [15, 20]]\n",
    "date_inter = [[dat(2), dat(7)], [dat(1), dat(4)], [dat(5), dat(10)], [dat(2), dat(3)], [dat(15), dat(20)]]"
   ]
  },
  {
   "cell_type": "code",
   "execution_count": 19,
   "id": "80e9be04-00a3-44b2-9f43-3736af0482cb",
   "metadata": {},
   "outputs": [
    {
     "data": {
      "text/plain": [
       "[[1, 10], [15, 20]]"
      ]
     },
     "execution_count": 19,
     "metadata": {},
     "output_type": "execute_result"
    }
   ],
   "source": [
    "reduce_interval([[2, 7], [1,4], [5, 10], [2, 3], [15, 20]])"
   ]
  },
  {
   "cell_type": "code",
   "execution_count": 20,
   "id": "1f58c708-bdef-4670-9fd4-55cb3681ebc6",
   "metadata": {},
   "outputs": [
    {
     "data": {
      "text/plain": [
       "[[1, 4], [5, 7], [8, 10], [15, 20]]"
      ]
     },
     "execution_count": 20,
     "metadata": {},
     "output_type": "execute_result"
    }
   ],
   "source": [
    "reduce_interval([[5, 7], [1,4], [8, 10], [2, 3], [15, 20]])"
   ]
  },
  {
   "cell_type": "code",
   "execution_count": 22,
   "id": "8c48a907-8326-4f06-814d-37b2e267213c",
   "metadata": {},
   "outputs": [
    {
     "data": {
      "text/plain": [
       "[[1, 7], [8, 10], [15, 20]]"
      ]
     },
     "execution_count": 22,
     "metadata": {},
     "output_type": "execute_result"
    }
   ],
   "source": [
    "reduce_interval([[5, 7], [1,4], [8, 10], [2, 3], [15, 20], [3, 6]])"
   ]
  },
  {
   "cell_type": "code",
   "execution_count": 21,
   "id": "33d8588f-31cb-485a-8f05-bf63e7f51640",
   "metadata": {},
   "outputs": [
    {
     "data": {
      "text/plain": [
       "[[datetime.date(2022, 4, 1), datetime.date(2022, 4, 10)],\n",
       " [datetime.date(2022, 4, 15), datetime.date(2022, 4, 20)]]"
      ]
     },
     "execution_count": 21,
     "metadata": {},
     "output_type": "execute_result"
    }
   ],
   "source": [
    "reduce_interval([[dat(2), dat(7)], [dat(1), dat(4)], [dat(5), dat(10)], [dat(2), dat(3)], [dat(15), dat(20)]])"
   ]
  }
 ],
 "metadata": {
  "kernelspec": {
   "display_name": "Python 3 (ipykernel)",
   "language": "python",
   "name": "python3"
  },
  "language_info": {
   "codemirror_mode": {
    "name": "ipython",
    "version": 3
   },
   "file_extension": ".py",
   "mimetype": "text/x-python",
   "name": "python",
   "nbconvert_exporter": "python",
   "pygments_lexer": "ipython3",
   "version": "3.12.4"
  }
 },
 "nbformat": 4,
 "nbformat_minor": 5
}
