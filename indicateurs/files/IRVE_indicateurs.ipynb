{
 "cells": [
  {
   "cell_type": "markdown",
   "id": "34ae1e4c",
   "metadata": {},
   "source": [
    "## Indicateurs d'intégrité des données IRVE\n",
    "     \n",
    "### Présentation\n",
    "Ce document identifie les points de recharge du jeu de données IRVE présentant des problèmes d'intégrité (*ex. une station associée à plusieurs coordonnées différentes, une coordonnée associée à plusieurs adresses*).   "
   ]
  },
  {
   "cell_type": "code",
   "execution_count": 2,
   "id": "1154c782-b42e-4848-98e4-8f6ee5c02c9f",
   "metadata": {},
   "outputs": [
    {
     "ename": "ModuleNotFoundError",
     "evalue": "No module named 'folium'",
     "output_type": "error",
     "traceback": [
      "\u001b[1;31m---------------------------------------------------------------------------\u001b[0m",
      "\u001b[1;31mModuleNotFoundError\u001b[0m                       Traceback (most recent call last)",
      "Cell \u001b[1;32mIn[2], line 8\u001b[0m\n\u001b[0;32m      6\u001b[0m \u001b[38;5;28;01mexcept\u001b[39;00m:\n\u001b[0;32m      7\u001b[0m     sys\u001b[38;5;241m.\u001b[39mpath\u001b[38;5;241m.\u001b[39mappend(\u001b[38;5;28mstr\u001b[39m(package))\n\u001b[1;32m----> 8\u001b[0m \u001b[38;5;28;01mfrom\u001b[39;00m \u001b[38;5;21;01msources\u001b[39;00m \u001b[38;5;28;01mimport\u001b[39;00m indic_integrite\n\u001b[0;32m     10\u001b[0m data \u001b[38;5;241m=\u001b[39m \u001b[38;5;28mstr\u001b[39m(package \u001b[38;5;241m/\u001b[39m \u001b[38;5;124m'\u001b[39m\u001b[38;5;124mdata\u001b[39m\u001b[38;5;124m'\u001b[39m)\n",
      "File \u001b[1;32mD:\\philippe\\python ESstandard\\IRVE\\sources\\indic_integrite.py:15\u001b[0m\n\u001b[0;32m     11\u001b[0m \u001b[38;5;28;01mimport\u001b[39;00m \u001b[38;5;21;01mmatplotlib\u001b[39;00m\u001b[38;5;21;01m.\u001b[39;00m\u001b[38;5;21;01mpyplot\u001b[39;00m \u001b[38;5;28;01mas\u001b[39;00m \u001b[38;5;21;01mplt\u001b[39;00m\n\u001b[0;32m     14\u001b[0m \u001b[38;5;28;01mimport\u001b[39;00m \u001b[38;5;21;01mpandas\u001b[39;00m \u001b[38;5;28;01mas\u001b[39;00m \u001b[38;5;21;01mpd\u001b[39;00m\n\u001b[1;32m---> 15\u001b[0m \u001b[38;5;28;01mfrom\u001b[39;00m \u001b[38;5;21;01mutil_carto\u001b[39;00m \u001b[38;5;28;01mimport\u001b[39;00m Cart\n\u001b[0;32m     17\u001b[0m \u001b[38;5;66;03m#chemin = str(pathlib.Path(npd.__file__).parent.parent.parent/\"Environmental-Sensing\"/\"python\"/\"Validation\"/\"irve\"/\"Analyse\")\u001b[39;00m\n\u001b[0;32m     19\u001b[0m \u001b[38;5;28;01mdef\u001b[39;00m \u001b[38;5;21mindicateurs\u001b[39m(chemin):\n",
      "File \u001b[1;32mD:\\philippe\\python ESstandard\\Environmental-Sensing\\python\\observation\\util_carto.py:8\u001b[0m\n\u001b[0;32m      1\u001b[0m \u001b[38;5;66;03m# -*- coding: utf-8 -*-\u001b[39;00m\n\u001b[0;32m      2\u001b[0m \u001b[38;5;124;03m\"\"\"\u001b[39;00m\n\u001b[0;32m      3\u001b[0m \u001b[38;5;124;03mCreated on Tue Apr 25 09:08:54 2023\u001b[39;00m\n\u001b[0;32m      4\u001b[0m \n\u001b[0;32m      5\u001b[0m \u001b[38;5;124;03m@author: philippe@loco-labs.io\u001b[39;00m\n\u001b[0;32m      6\u001b[0m \u001b[38;5;124;03m\"\"\"\u001b[39;00m\n\u001b[1;32m----> 8\u001b[0m \u001b[38;5;28;01mimport\u001b[39;00m \u001b[38;5;21;01mfolium\u001b[39;00m\n\u001b[0;32m     11\u001b[0m \u001b[38;5;28;01mclass\u001b[39;00m \u001b[38;5;21;01mCart\u001b[39;00m():\n\u001b[0;32m     12\u001b[0m \u001b[38;5;250m    \u001b[39m\u001b[38;5;124;03m'''folium map with markers'''\u001b[39;00m\n",
      "\u001b[1;31mModuleNotFoundError\u001b[0m: No module named 'folium'"
     ]
    }
   ],
   "source": [
    "import sys\n",
    "from pathlib import Path\n",
    "package = Path.cwd().parent.parent\n",
    "try:\n",
    "    import sources\n",
    "except:\n",
    "    sys.path.append(str(package))\n",
    "from sources import indic_integrite\n",
    "\n",
    "data = str(package / 'data')"
   ]
  },
  {
   "cell_type": "code",
   "execution_count": null,
   "id": "d54b120b",
   "metadata": {
    "scrolled": true
   },
   "outputs": [],
   "source": [
    "indic = indic_integrite.indicateurs(data)"
   ]
  },
  {
   "cell_type": "markdown",
   "id": "4ac0c54d",
   "metadata": {},
   "source": [
    "## Evolution des doublons\n",
    "Le graphe ci-dessous présente l'évolution du nombre de points de recharge documentés dans le jeu de données avec une distinction entre les données présentant ou non des doublons (doublon : plusieurs point de recharge avec le même identifiant).      \n",
    "       \n",
    "Le nombre de doublons était très important avant l'été 2023 (plus de 40%). Les travaux menés pendant l'été ont permis de ramener le nombre de doulons à 5%.\n",
    "\n",
    "On note néanmoins une remontée depuis la fin 2023 qui a été réduite mais reste encore significative (10 %)."
   ]
  },
  {
   "cell_type": "code",
   "execution_count": null,
   "id": "08dc032a",
   "metadata": {},
   "outputs": [],
   "source": [
    "indic_integrite.doublons(indic)"
   ]
  },
  {
   "cell_type": "markdown",
   "id": "59f50a2f",
   "metadata": {},
   "source": [
    "## Evolution des données (hors doublons)\n",
    "Le graphe ci-dessous présente l'évolution du nombre de points de recharge documentés dans le jeu de données avec une distinction entre les données présentant ou non des défauts d'intégrité.      \n",
    "\n",
    "Le nombre de points de recharge est passé de 40 000 en début d'année 2023 à 89 000 en mai 2024 malgré une diminution pendant l'été 2023 (passage de 45 000 à moins de 30 000) résorbée ensuite.\n",
    "On observe depuis fin novembre 2023 une forte augmentation du nombre de point de recharge (6 000 par mois alors qu'elle était avant cette date de 1 000 par mois).\n",
    "\n",
    "Il est à noter que malgré la structure complexe du jeu de données IRVE, le taux de défaut a pu rester majoritairement à un niveau faible ( < 5% ). \n",
    "Le mauvais niveau de qualité des données ajoutées après l'été a dégradé le niveau de qualité (le taux de défaut a atteint 15% en septembre).\n",
    "Une évolution apportée en avril 2024 a également conduit à un doublement du nombre de défauts. \n",
    "Ces difficultés ont pu être traitées dans les semaines qui ont suivi.\n",
    "\n",
    "Le nombre de défauts pourrait être fortement réduit en traitant les cinq écarts présentés dans la suite de ce Notebook.\n",
    "\n",
    "Nota :\n",
    "- les défauts signalés concernant l'Eure ont été traités\n",
    "- les défauts signalés concernant e-vadea ont été traités\n",
    "- les défauts signalés concernant Ouest-charge ont été traités\n",
    "- les défauts signalés concernant Freshmile ont été traités\n",
    "- les défauts signalés concernant Power Dot ont été traités"
   ]
  },
  {
   "cell_type": "code",
   "execution_count": null,
   "id": "611270f1",
   "metadata": {},
   "outputs": [],
   "source": [
    "indic_integrite.evolution(indic)"
   ]
  },
  {
   "cell_type": "markdown",
   "id": "827c672f",
   "metadata": {},
   "source": [
    "## Défaut d'intégrité\n",
    "Les défauts d'intégrité découlent du [modèle de données](http://nbviewer.org/github/loco-philippe/Environmental-Sensing/tree/main/python/Validation/irve/Analyse/IRVE_modele.ipynb) associé au jeu de données : \n",
    "- défauts liés aux relations entre entités :\n",
    "    - Un pdc est unique et associé à une ligne du jeu de données\n",
    "    - Un pdc est intégré dans une et une seule station\n",
    "    - Une station est opérée par un et un seul opérateur\n",
    "    - Une station est hébergée par une et une seule enseigne\n",
    "    - Une station a une et une seule localisation\n",
    "- défauts liés entre un attribut et une entité :\n",
    "    - Une station a un et un seul “nom_station”\n",
    "    - Une station a une et une seule “implantation_station”\n",
    "    - Une station a un et un seul “nbre_pdc”\n",
    "    - Une station a un et un seule “condition_accès”\n",
    "    - Une station a un et un seul “horaires”\n",
    "    - Une station a un et un seul “station_deux_roues”\n",
    "    - Une localisation correspond à une et une seule “adresse_station”"
   ]
  },
  {
   "cell_type": "code",
   "execution_count": null,
   "id": "a47625d3",
   "metadata": {},
   "outputs": [],
   "source": [
    "date = indic_integrite.defaut_integrite(indic)"
   ]
  },
  {
   "cell_type": "markdown",
   "id": "df30765a",
   "metadata": {},
   "source": [
    "## Localisation des stations comportant un écart"
   ]
  },
  {
   "cell_type": "markdown",
   "id": "24360960",
   "metadata": {},
   "source": [
    "### icones de la carte\n",
    "icones rouge : stations avec un écart de relations entre entités (voir introduction)     \n",
    "icones orange : stations avec un défaut d'attributs (voir introduction)     \n",
    "\n",
    "### indicateurs de défauts\n",
    "Les libellés en fin de fenêtres contextuelles \"champ 1 - champ 2 : False\" signifient que \n",
    "le champ 2 est associé à plusieurs champ 1 en fonction des pdc (défaut d'intégrité).       \n",
    "       \n",
    "*Par exemple : \"coordonneesXY - id_station_itinerance : False\" signifie qu'il existe plusieurs pdc \n",
    "avec une même la valeur du champ \"id_station_itinerance\" mais plusieurs valeurs du champ \"coordonnéesXY\".*\n",
    "   \n",
    "**Nota :** \n",
    "- La carte est également accessible et partageable (fichier 'irve.html' présent sur le repository)\n",
    "- les libellés de défaut sont identiques à ceux du fichier des écarts.\n"
   ]
  },
  {
   "cell_type": "code",
   "execution_count": null,
   "id": "0ee18c17",
   "metadata": {},
   "outputs": [],
   "source": [
    "indic_integrite.defaut_carte(date, data).show('irve.html')"
   ]
  }
 ],
 "metadata": {
  "kernelspec": {
   "display_name": "Python 3 (ipykernel)",
   "language": "python",
   "name": "python3"
  },
  "language_info": {
   "codemirror_mode": {
    "name": "ipython",
    "version": 3
   },
   "file_extension": ".py",
   "mimetype": "text/x-python",
   "name": "python",
   "nbconvert_exporter": "python",
   "pygments_lexer": "ipython3",
   "version": "3.11.9"
  }
 },
 "nbformat": 4,
 "nbformat_minor": 5
}
